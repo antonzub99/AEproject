{
 "cells": [
  {
   "cell_type": "code",
   "execution_count": null,
   "id": "717bd3a1",
   "metadata": {},
   "outputs": [],
   "source": [
    "!python AEproject/eval_curve.py --num_points=3 --device=cuda:0 --curve=Bezier --ckpt='AEproject/checkpoint-10.pt'"
   ]
  },
  {
   "cell_type": "code",
   "execution_count": null,
   "id": "8bb9ff85",
   "metadata": {},
   "outputs": [],
   "source": [
    "import numpy as np\n",
    "import matplotlib.pyplot as plt\n",
    "\n",
    "result = np.load('/tmp/eval/curve.npz')\n",
    "\n",
    "\n",
    "plt.subplots(1, 2, 1)\n",
    "plt.plot(result['ts'], result['train_loss'], label='Bezier')\n",
    "plt.xlabel('t')\n",
    "plt.ylabel('Train loss')\n",
    "plt.legend()\n",
    "\n",
    "plt.subplots(1, 2, 1)\n",
    "plt.plot(result['ts'], result['test_loss'], label='Bezier')\n",
    "plt.xlabel('t')\n",
    "plt.ylabel('Test loss')\n",
    "plt.legend()"
   ]
  }
 ],
 "metadata": {
  "kernelspec": {
   "display_name": "Python 3",
   "language": "python",
   "name": "python3"
  },
  "language_info": {
   "codemirror_mode": {
    "name": "ipython",
    "version": 3
   },
   "file_extension": ".py",
   "mimetype": "text/x-python",
   "name": "python",
   "nbconvert_exporter": "python",
   "pygments_lexer": "ipython3",
   "version": "3.8.8"
  }
 },
 "nbformat": 4,
 "nbformat_minor": 5
}
