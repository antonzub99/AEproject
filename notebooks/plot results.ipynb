{
 "cells": [
  {
   "cell_type": "code",
   "execution_count": null,
   "id": "717bd3a1",
   "metadata": {},
   "outputs": [],
   "source": [
    "!python AEproject/eval_curve.py --num_points=3 --device=cuda:0 --curve=Bezier --ckpt='AEproject/checkpoint-10.pt'"
   ]
  },
  {
   "cell_type": "code",
   "execution_count": null,
   "id": "09259a23",
   "metadata": {},
   "outputs": [],
   "source": [
    "import numpy as np\n",
    "import matplotlib.pyplot as plt\n",
    "import imageio\n",
    "import os\n",
    "import torch\n",
    "from torchvision.utils import make_grid"
   ]
  },
  {
   "cell_type": "code",
   "execution_count": null,
   "id": "8bb9ff85",
   "metadata": {},
   "outputs": [],
   "source": [
    "result = np.load('./tmp/eval/curve.npz')\n",
    "\n",
    "fig, axs = plt.subplots(figsize=(14, 5), ncols=2)\n",
    "axs[0].plot(result['ts'], result['train_loss'], label='Bezier')\n",
    "axs[0].set_xlabel('t', fontsize=15)\n",
    "axs[0].set_ylabel('Train loss', fontsize=15)\n",
    "axs[0].legend()\n",
    "\n",
    "axs[1].plot(result['ts'], result['test_loss'], label='Bezier')\n",
    "axs[1].set_xlabel('t', fontsize=15)\n",
    "axs[1].set_ylabel('Test loss', fontsize=15)\n",
    "axs[1].legend()"
   ]
  },
  {
   "cell_type": "code",
   "execution_count": null,
   "id": "d71efc8c",
   "metadata": {},
   "outputs": [],
   "source": [
    "def DynamicsToGif(images_dynamics, ts, name='movie.gif'):\n",
    "    images = []\n",
    "    filename = 'tmp.png'\n",
    "    plt.figure()\n",
    "    for t, img in zip(ts, images_dynamics):\n",
    "        printimg = make_grid(torch.tensor(img), nrow=2)\n",
    "        plt.imshow(np.transpose(printimg, (1, 2, 0)))\n",
    "        plt.axis('Off')\n",
    "        plt.title(f't = {np.round(t,3)}', fontsize=20)\n",
    "        \n",
    "        plt.savefig(filename)\n",
    "        plt.close()\n",
    "        images.append(imageio.imread(filename))\n",
    "    os.remove(filename)\n",
    "    imageio.mimsave(name, images, fps = 1)\n",
    "\n",
    "images_dynamics = np.load('./tmp/eval/images.npz')['images_dynamics']\n",
    "DynamicsToGif(images_dynamics, result['ts'], name='movie.gif')\n"
   ]
  }
 ],
 "metadata": {
  "kernelspec": {
   "display_name": "Python 3",
   "language": "python",
   "name": "python3"
  },
  "language_info": {
   "codemirror_mode": {
    "name": "ipython",
    "version": 3
   },
   "file_extension": ".py",
   "mimetype": "text/x-python",
   "name": "python",
   "nbconvert_exporter": "python",
   "pygments_lexer": "ipython3",
   "version": "3.8.8"
  }
 },
 "nbformat": 4,
 "nbformat_minor": 5
}